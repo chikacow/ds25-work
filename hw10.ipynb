{
 "cells": [
  {
   "cell_type": "code",
   "execution_count": 1,
   "id": "c7b9ba77",
   "metadata": {
    "deletable": false,
    "editable": false
   },
   "outputs": [],
   "source": [
    "# Initialize Otter\n",
    "import otter\n",
    "grader = otter.Notebook(\"hw10.ipynb\")"
   ]
  },
  {
   "cell_type": "markdown",
   "id": "032c3615",
   "metadata": {},
   "source": [
    "<img src=\"data8logo.png\" alt=\"Data 8 Logo\" style=\"width: 15%; float: right; padding: 1%; margin-right: 2%;\"/>\n",
    "\n",
    "# Homework 10: Linear Regression\n",
    "\n",
    "**Helpful Resource:**\n",
    "\n",
    "- [Python Reference](http://data8.org/fa24/reference/): Cheat sheet of helpful array & table methods used in Data 8!\n",
    "\n",
    "**Recommended Readings**: \n",
    "\n",
    "* [Correlation](https://inferentialthinking.com/chapters/15/1/Correlation.html)\n",
    "* [The Regression Line](https://www.inferentialthinking.com/chapters/15/2/Regression_Line.html)\n",
    "* [Method of Least Squares](https://www.inferentialthinking.com/chapters/15/3/Method_of_Least_Squares.html)\n",
    "* [Least Squares Regression](https://www.inferentialthinking.com/chapters/15/4/Least_Squares_Regression.html)"
   ]
  },
  {
   "attachments": {},
   "cell_type": "markdown",
   "id": "44d0647a",
   "metadata": {},
   "source": [
    "Please complete this notebook by filling in the cells provided. **Before you begin, execute the cell below to setup the notebook by importing some helpful libraries.** Each time you start your server, you will need to execute this cell again.\n",
    "\n",
    "For all problems that you must write explanations and sentences for, you **must** provide your answer in the designated space. Moreover, throughout this homework and all future ones, **please be sure to not re-assign variables throughout the notebook!** For example, if you use `max_temperature` in your answer to one question, do not reassign it later on. Otherwise, you will fail tests that you thought you were passing previously!\n",
    "\n",
    "**Deadline:**\n",
    "\n",
    "This assignment is **due Wednesday, 11/13 at 5:00pm PT**. Submissions after this time will be accepted for 24 hours and will incur a 20% penalty. Any submissions later than this 24 hour period will not be accepted unless an extension has been granted as per the [policies](http://data8.org/fa24/policies/) page. Turn it in by Tuesday, 11/12 at 5:00pm PT for 5 extra credit points.\n",
    "\n",
    "<span style=\"color:red\">**Note: This homework has hidden tests on it. That means even though tests may say 100% passed, it doesn't mean your final grade will be 100%. We will be running more tests for correctness once everyone turns in the homework.**</span>\n",
    "\n",
    "Directly sharing answers is not okay, but discussing problems with the course staff or with other students is encouraged. Refer to the [policies](http://data8.org/fa24/policies/#learning-cooperatively) page to learn more about how to learn cooperatively.\n",
    "\n",
    "You should start early so that you have time to get help if you're stuck. Office hours are held Monday through Friday in [Warren Hall](https://www.berkeley.edu/map?warren) 101B. The office hours schedule appears [here](http://data8.org/fa24/officehours/)."
   ]
  },
  {
   "cell_type": "markdown",
   "id": "3b94911b",
   "metadata": {},
   "source": [
    "---\n",
    "\n",
    "The point breakdown for this assignment is given in the table below:\n",
    "| Category | Points |\n",
    "| --- | --- |\n",
    "| Autograder (Coding questions) | 56 |\n",
    "| Written | 44 |\n",
    "| **Total** | 100 |"
   ]
  },
  {
   "cell_type": "code",
   "execution_count": 2,
   "id": "c066111a",
   "metadata": {},
   "outputs": [],
   "source": [
    "# Run this cell to set up the notebook, but please don't change it.\n",
    "\n",
    "import numpy as np\n",
    "from datascience import * \n",
    "\n",
    "# These lines do some fancy plotting magic.\n",
    "import matplotlib\n",
    "%matplotlib inline\n",
    "import matplotlib.pyplot as plt\n",
    "plt.style.use('fivethirtyeight')\n",
    "import warnings\n",
    "warnings.simplefilter('ignore', FutureWarning)\n",
    "from datetime import datetime"
   ]
  },
  {
   "attachments": {},
   "cell_type": "markdown",
   "id": "3711929e",
   "metadata": {},
   "source": [
    "<hr style=\"border: 5px solid #003262;\" />\n",
    "<hr style=\"border: 1px solid #fdb515;\" />\n",
    "\n",
    "## 1. Linear Regression Setup"
   ]
  },
  {
   "attachments": {},
   "cell_type": "markdown",
   "id": "458092a5",
   "metadata": {},
   "source": [
    "When performing linear regression, we need to compute several important quantities which will be used throughout our analysis. **Unless otherwise specified when asked to make a prediction please assume we are predicting y from x throughout this assignment.** To help with our later analysis, we will begin by writing some of these functions and understanding what they can do for us."
   ]
  },
  {
   "cell_type": "markdown",
   "id": "1650768f",
   "metadata": {},
   "source": [
    "---\n",
    "\n",
    "**Question 1.1.** Define a function `standard_units` that converts a given array to standard units. **(3 points)**\n",
    "\n",
    "*Hint:* You may find the `np.mean` and `np.std` functions helpful.\n"
   ]
  },
  {
   "cell_type": "code",
   "execution_count": 3,
   "id": "2031de00",
   "metadata": {
    "tags": []
   },
   "outputs": [],
   "source": [
    "def standard_units(data):\n",
    "    return (data - np.mean(data))/np.std(data)"
   ]
  },
  {
   "cell_type": "code",
   "execution_count": 4,
   "id": "daf8cce2",
   "metadata": {
    "deletable": false,
    "editable": false
   },
   "outputs": [
    {
     "data": {
      "text/html": [
       "<p><strong><pre style='display: inline;'>q1_1</pre></strong> passed! 🌈</p>"
      ],
      "text/plain": [
       "q1_1 results: All test cases passed!"
      ]
     },
     "execution_count": 4,
     "metadata": {},
     "output_type": "execute_result"
    }
   ],
   "source": [
    "grader.check(\"q1_1\")"
   ]
  },
  {
   "cell_type": "markdown",
   "id": "23a7b791",
   "metadata": {},
   "source": [
    "---\n",
    "\n",
    "**Question 1.2.** Which of the following are true about standard units? Assume we have converted an array of data into standard units using the function above. **(5 points)**\n",
    "\n",
    "1. The unit of all our data when converted into standard units is the same as the unit of the original data.\n",
    "2. The sum of all our data when converted into standard units is 0.\n",
    "3. The standard deviation of all our data when converted into standard units is 1.\n",
    "4. Adding a constant, C, to our original data has no impact on the resultant data when converted to standard units.\n",
    "5. Multiplying our original data by a positive constant, C (>0), has no impact on the resultant data when converted to standard units.\n",
    "\n",
    "Assign `standard_array` to an array of your selections, in increasing numerical order. For example, if you wanted to select options 1, 3, and 5,\n",
    "you would assign `standard_array` to `make_array(1, 3, 5)`.\n"
   ]
  },
  {
   "cell_type": "code",
   "execution_count": 5,
   "id": "d6db5b6d",
   "metadata": {
    "tags": []
   },
   "outputs": [],
   "source": [
    "standard_array = make_array(2, 4)"
   ]
  },
  {
   "cell_type": "code",
   "execution_count": 6,
   "id": "76c3c1c7",
   "metadata": {
    "deletable": false,
    "editable": false
   },
   "outputs": [
    {
     "data": {
      "text/html": [
       "<p><strong><pre style='display: inline;'>q1_2</pre></strong> passed! ✨</p>"
      ],
      "text/plain": [
       "q1_2 results: All test cases passed!"
      ]
     },
     "execution_count": 6,
     "metadata": {},
     "output_type": "execute_result"
    }
   ],
   "source": [
    "grader.check(\"q1_2\")"
   ]
  },
  {
   "cell_type": "markdown",
   "id": "d5501eef",
   "metadata": {},
   "source": [
    "---\n",
    "\n",
    "**Question 1.3.** Define a function `correlation` that computes the correlation between 2 arrays of data in original units. **(3 points)**\n",
    "\n",
    "*Hint:* Feel free to use functions you have defined previously.\n"
   ]
  },
  {
   "cell_type": "code",
   "execution_count": 7,
   "id": "97f4b238",
   "metadata": {
    "tags": []
   },
   "outputs": [],
   "source": [
    "def correlation(x, y):\n",
    "    return np.mean(standard_units(x) * standard_units(y))"
   ]
  },
  {
   "cell_type": "code",
   "execution_count": 8,
   "id": "3fcbac0d",
   "metadata": {
    "deletable": false,
    "editable": false
   },
   "outputs": [
    {
     "data": {
      "text/html": [
       "<p><strong><pre style='display: inline;'>q1_3</pre></strong> passed! 💯</p>"
      ],
      "text/plain": [
       "q1_3 results: All test cases passed!"
      ]
     },
     "execution_count": 8,
     "metadata": {},
     "output_type": "execute_result"
    }
   ],
   "source": [
    "grader.check(\"q1_3\")"
   ]
  },
  {
   "cell_type": "markdown",
   "id": "702027f5",
   "metadata": {},
   "source": [
    "---\n",
    "\n",
    "**Question 1.4.** Which of the following are true about the correlation coefficient $r$? **(5 points)**\n",
    "\n",
    "1. The correlation coefficient measures the strength of a linear relationship.\n",
    "2. When looking at the existing data, a correlation coefficient of 1.0 means an increase in one variable always means an increase in the other variable.\n",
    "3. The correlation coefficient is the slope of the regression line in standard units.\n",
    "4. The correlation coefficient stays the same if we swap our x-axis and y-axis.\n",
    "5. If we add a constant, C, to our original data, our correlation coefficient will increase by the same C.\n",
    "\n",
    "Assign `r_array` to an array of your selections, in increasing numerical order. For example, if you wanted to select options 1, 3, and 5,\n",
    "you would assign `r_array` to `make_array(1, 3, 5)`.\n"
   ]
  },
  {
   "cell_type": "code",
   "execution_count": 10,
   "id": "642d792c",
   "metadata": {
    "tags": []
   },
   "outputs": [],
   "source": [
    "r_array = make_array(1)"
   ]
  },
  {
   "cell_type": "code",
   "execution_count": 11,
   "id": "a6c3de01",
   "metadata": {
    "deletable": false,
    "editable": false
   },
   "outputs": [
    {
     "data": {
      "text/html": [
       "<p><strong><pre style='display: inline;'>q1_4</pre></strong> passed! 🎉</p>"
      ],
      "text/plain": [
       "q1_4 results: All test cases passed!"
      ]
     },
     "execution_count": 11,
     "metadata": {},
     "output_type": "execute_result"
    }
   ],
   "source": [
    "grader.check(\"q1_4\")"
   ]
  },
  {
   "cell_type": "markdown",
   "id": "0d08d7e2",
   "metadata": {},
   "source": [
    "---\n",
    "\n",
    "**Question 1.5.** Define a function `slope` that computes the slope of our line of best fit (to predict y given x), given two arrays of data in original units. Assume we want to create a line of best fit in original units. **(3 points)**\n",
    "\n",
    "*Hint:* Feel free to use functions you have defined previously.\n"
   ]
  },
  {
   "cell_type": "code",
   "execution_count": 12,
   "id": "4820befa",
   "metadata": {
    "tags": []
   },
   "outputs": [],
   "source": [
    "def slope(x, y):\n",
    "    r = correlation(x,y)\n",
    "    return r * np.std(y) /np.std(x)"
   ]
  },
  {
   "cell_type": "code",
   "execution_count": 13,
   "id": "e3d9a7c8",
   "metadata": {
    "deletable": false,
    "editable": false
   },
   "outputs": [
    {
     "data": {
      "text/html": [
       "<p><strong><pre style='display: inline;'>q1_5</pre></strong> passed! ✨</p>"
      ],
      "text/plain": [
       "q1_5 results: All test cases passed!"
      ]
     },
     "execution_count": 13,
     "metadata": {},
     "output_type": "execute_result"
    }
   ],
   "source": [
    "grader.check(\"q1_5\")"
   ]
  },
  {
   "cell_type": "markdown",
   "id": "339236c5",
   "metadata": {},
   "source": [
    "---\n",
    "\n",
    "**Question 1.6.** Which of the following are true about the slope of our line of best fit? Assume `x` refers to the value of one variable that we use to predict the value of `y`. **(5 points)**\n",
    "\n",
    "1. In original units, the slope has the unit: unit of x / unit of y.\n",
    "2. In standard units, the slope is unitless.\n",
    "3. In original units, the slope is unchanged by swapping x and y.\n",
    "4. In standard units, a slope of 1 means our data is perfectly linearly correlated.\n",
    "5. In original units and standard units, the slope always has the same positive or negative sign.\n",
    "\n",
    "Assign `slope_array` to an array of your selections, in increasing numerical order. For example, if you wanted to select options 1, 3, and 5,\n",
    "you would assign `slope_array` to `make_array(1, 3, 5)`.\n"
   ]
  },
  {
   "cell_type": "code",
   "execution_count": 14,
   "id": "3388b689",
   "metadata": {
    "tags": []
   },
   "outputs": [],
   "source": [
    "slope_array = make_array(1)"
   ]
  },
  {
   "cell_type": "code",
   "execution_count": 15,
   "id": "e7a6b6a6",
   "metadata": {
    "deletable": false,
    "editable": false
   },
   "outputs": [
    {
     "data": {
      "text/html": [
       "<p><strong><pre style='display: inline;'>q1_6</pre></strong> passed! 🎉</p>"
      ],
      "text/plain": [
       "q1_6 results: All test cases passed!"
      ]
     },
     "execution_count": 15,
     "metadata": {},
     "output_type": "execute_result"
    }
   ],
   "source": [
    "grader.check(\"q1_6\")"
   ]
  },
  {
   "cell_type": "markdown",
   "id": "a3afaf86",
   "metadata": {},
   "source": [
    "---\n",
    "\n",
    "**Question 1.7.** Define a function `intercept` that computes the intercept of our line of best fit (to predict y given x), given 2 arrays of data in original units. Assume we want to create a line of best fit in original units. **(3 points)**\n",
    "\n",
    "*Hint:* Feel free to use functions you have defined previously.\n"
   ]
  },
  {
   "cell_type": "code",
   "execution_count": 16,
   "id": "cb6d5deb",
   "metadata": {
    "tags": []
   },
   "outputs": [],
   "source": [
    "def intercept(x, y):\n",
    "    return np.mean(y) - slope(x,y)*np.mean(x)"
   ]
  },
  {
   "cell_type": "code",
   "execution_count": 17,
   "id": "51710ed8",
   "metadata": {
    "deletable": false,
    "editable": false
   },
   "outputs": [
    {
     "data": {
      "text/html": [
       "<p><strong><pre style='display: inline;'>q1_7</pre></strong> passed! 🌟</p>"
      ],
      "text/plain": [
       "q1_7 results: All test cases passed!"
      ]
     },
     "execution_count": 17,
     "metadata": {},
     "output_type": "execute_result"
    }
   ],
   "source": [
    "grader.check(\"q1_7\")"
   ]
  },
  {
   "cell_type": "markdown",
   "id": "784b877e",
   "metadata": {},
   "source": [
    "---\n",
    "\n",
    "**Question 1.8.** Which of the following are true about the intercept of our line of best fit? Assume `x` refers to the value of one variable that we use to predict the value of `y`. **(5 points)**\n",
    "\n",
    "1. In original units, the intercept has the same unit as the y values.\n",
    "2. In original units, the intercept has the same unit as the x values.\n",
    "3. In original units, the slope and intercept have the same unit.\n",
    "4. In standard units, the intercept for the regression line is 0.\n",
    "5. In original units and standard units, the intercept always has the same numerical value.\n",
    "\n",
    "Assign `intercept_array` to an array of your selections, in increasing numerical order. For example, if you wanted to select options 1, 3, and 5,\n",
    "you would assign `intercept_array` to `make_array(1, 3, 5)`.\n"
   ]
  },
  {
   "cell_type": "code",
   "execution_count": 18,
   "id": "dec5be36",
   "metadata": {
    "tags": []
   },
   "outputs": [],
   "source": [
    "intercept_array = make_array(1)"
   ]
  },
  {
   "cell_type": "code",
   "execution_count": 19,
   "id": "c10ed23c",
   "metadata": {
    "deletable": false,
    "editable": false
   },
   "outputs": [
    {
     "data": {
      "text/html": [
       "<p><strong><pre style='display: inline;'>q1_8</pre></strong> passed! 🌟</p>"
      ],
      "text/plain": [
       "q1_8 results: All test cases passed!"
      ]
     },
     "execution_count": 19,
     "metadata": {},
     "output_type": "execute_result"
    }
   ],
   "source": [
    "grader.check(\"q1_8\")"
   ]
  },
  {
   "cell_type": "markdown",
   "id": "dfbd2230",
   "metadata": {},
   "source": [
    "---\n",
    "\n",
    "**Question 1.9.** Define a function `predict` that takes in a table and 2 column names, and returns an array of predictions. The predictions should be created using a fitted **regression line**. We are predicting `\"col2\"` from `\"col1\"`, both in original units. **(5 points)**\n",
    "\n",
    "*Hint 1:* Feel free to use functions you have defined previously.\n",
    "\n",
    "*Hint 2:* Re-reading [15.2](https://inferentialthinking.com/chapters/15/2/Regression_Line.html#the-regression-line) might be helpful here.\n",
    "\n",
    "Note: The public tests are quite comprehensive for this question, so passing them means that your function most likely works correctly.\n"
   ]
  },
  {
   "cell_type": "code",
   "execution_count": 26,
   "id": "3513d80b",
   "metadata": {
    "tags": []
   },
   "outputs": [],
   "source": [
    "def predict(tbl, col1, col2):\n",
    "    x = tbl.column(col1)\n",
    "    y = tbl.column(col2)\n",
    "    r = correlation(x,y)\n",
    "    a = slope(x, y)\n",
    "    b = intercept(x, y)\n",
    "    return a* x + b"
   ]
  },
  {
   "cell_type": "code",
   "execution_count": 27,
   "id": "0a27353c",
   "metadata": {
    "deletable": false,
    "editable": false
   },
   "outputs": [
    {
     "data": {
      "text/html": [
       "<p><strong><pre style='display: inline;'>q1_9</pre></strong> passed! 🎉</p>"
      ],
      "text/plain": [
       "q1_9 results: All test cases passed!"
      ]
     },
     "execution_count": 27,
     "metadata": {},
     "output_type": "execute_result"
    }
   ],
   "source": [
    "grader.check(\"q1_9\")"
   ]
  },
  {
   "attachments": {},
   "cell_type": "markdown",
   "id": "81cac628",
   "metadata": {},
   "source": [
    "<hr style=\"border: 5px solid #003262;\" />\n",
    "<hr style=\"border: 1px solid #fdb515;\" />\n",
    "\n",
    "## 2. FIFA Predictions"
   ]
  },
  {
   "attachments": {},
   "cell_type": "markdown",
   "id": "d20e78df",
   "metadata": {},
   "source": [
    "The following data was scraped from [sofifa.com](https://sofifa.com/), a website dedicated to collecting information from FIFA video games. The dataset consists of all players in FIFA 22 and their corresponding attributes. We have truncated the dataset to a limited number of rows (100) to ease with our visualizations and analysis. Since we’re learning about linear regression, we will look specifically for a linear association between various player attributes. **To help with understanding where the line of best fit generated in linear regression comes from please do not use the `.fit_line` argument in `.scatter` at any point on question 2 unless the code was provided for you.**\n",
    "\n",
    "Feel free to read more about the video game on [Wikipedia](https://en.wikipedia.org/wiki/FIFA_22)."
   ]
  },
  {
   "cell_type": "code",
   "execution_count": 28,
   "id": "5956a832",
   "metadata": {},
   "outputs": [
    {
     "data": {
      "text/html": [
       "<table border=\"1\" class=\"dataframe\">\n",
       "    <thead>\n",
       "        <tr>\n",
       "            <th>short_name</th> <th>overall</th> <th>value_eur</th> <th>wage_eur</th> <th>age</th> <th>pace</th> <th>shooting</th> <th>passing</th> <th>attacking_finishing</th>\n",
       "        </tr>\n",
       "    </thead>\n",
       "    <tbody>\n",
       "        <tr>\n",
       "            <td>L. Messi         </td> <td>93     </td> <td>78000000 </td> <td>320000  </td> <td>34  </td> <td>85  </td> <td>92      </td> <td>91     </td> <td>95                 </td>\n",
       "        </tr>\n",
       "        <tr>\n",
       "            <td>R. Lewandowski   </td> <td>92     </td> <td>119500000</td> <td>270000  </td> <td>32  </td> <td>78  </td> <td>92      </td> <td>79     </td> <td>95                 </td>\n",
       "        </tr>\n",
       "        <tr>\n",
       "            <td>Cristiano Ronaldo</td> <td>91     </td> <td>45000000 </td> <td>270000  </td> <td>36  </td> <td>87  </td> <td>94      </td> <td>80     </td> <td>95                 </td>\n",
       "        </tr>\n",
       "        <tr>\n",
       "            <td>Neymar Jr        </td> <td>91     </td> <td>129000000</td> <td>270000  </td> <td>29  </td> <td>91  </td> <td>83      </td> <td>86     </td> <td>83                 </td>\n",
       "        </tr>\n",
       "        <tr>\n",
       "            <td>K. De Bruyne     </td> <td>91     </td> <td>125500000</td> <td>350000  </td> <td>30  </td> <td>76  </td> <td>86      </td> <td>93     </td> <td>82                 </td>\n",
       "        </tr>\n",
       "    </tbody>\n",
       "</table>\n",
       "<p>... (95 rows omitted)</p>"
      ],
      "text/plain": [
       "<IPython.core.display.HTML object>"
      ]
     },
     "metadata": {},
     "output_type": "display_data"
    }
   ],
   "source": [
    "# Run this cell to load the data\n",
    "fifa = Table.read_table('fifa22.csv')\n",
    "\n",
    "# Select a subset of columns to analyze (there are 110 columns in the original dataset)\n",
    "fifa = fifa.select(\"short_name\", \"overall\", \"value_eur\", \"wage_eur\", \"age\", \"pace\", \"shooting\", \"passing\", \"attacking_finishing\")\n",
    "fifa.show(5)"
   ]
  },
  {
   "cell_type": "markdown",
   "id": "69944d0e",
   "metadata": {},
   "source": [
    "<!-- BEGIN QUESTION -->\n",
    "\n",
    "---\n",
    "\n",
    "**Question 2.1.** Before jumping into any statistical techniques, it’s important to see what the data looks like, because data visualizations allow us to uncover patterns in our data that would have otherwise been much more difficult to see. **(3 points)**\n",
    "\n",
    "Create a scatter plot with age on the x-axis (“age”), and the player’s value in Euros (“value_eur”) on the y-axis.\n"
   ]
  },
  {
   "cell_type": "code",
   "execution_count": 29,
   "id": "afcafe12",
   "metadata": {
    "tags": []
   },
   "outputs": [
    {
     "data": {
      "image/png": "[encoded data removed]",
      "text/plain": [
       "<Figure size 500x500 with 1 Axes>"
      ]
     },
     "metadata": {},
     "output_type": "display_data"
    }
   ],
   "source": [
    "fifa.scatter('age', 'value_eur')"
   ]
  },
  {
   "cell_type": "markdown",
   "id": "aaa5175c",
   "metadata": {},
   "source": [
    "<!-- END QUESTION -->\n",
    "\n",
    "---\n",
    "\n",
    "**Question 2.2.** Does the correlation coefficient `r` for the data in our scatter plot in 2.1 look closest to 0, 0.75, or -0.75? **(3 points)**\n",
    "\n",
    "Assign `r_guess` to one of 0, 0.75, or -0.75.\n"
   ]
  },
  {
   "cell_type": "code",
   "execution_count": 30,
   "id": "39387e60",
   "metadata": {
    "tags": []
   },
   "outputs": [],
   "source": [
    "r_guess = -0.75"
   ]
  },
  {
   "cell_type": "code",
   "execution_count": 31,
   "id": "b2d5226d",
   "metadata": {
    "deletable": false,
    "editable": false
   },
   "outputs": [
    {
     "data": {
      "text/html": [
       "<p><strong><pre style='display: inline;'>q2_2</pre></strong> passed! 🚀</p>"
      ],
      "text/plain": [
       "q2_2 results: All test cases passed!"
      ]
     },
     "execution_count": 31,
     "metadata": {},
     "output_type": "execute_result"
    }
   ],
   "source": [
    "grader.check(\"q2_2\")"
   ]
  },
  {
   "cell_type": "markdown",
   "id": "2049a557",
   "metadata": {},
   "source": [
    "<!-- BEGIN QUESTION -->\n",
    "\n",
    "---\n",
    "\n",
    "**Question 2.3.** Create a scatter plot with player age (\"age\") along the x-axis and both real player value (\"value_eur\") and predicted player value along the y-axis. The predictions should be created using a fitted **regression line**. The color of the dots for the real player values should be different from the color for the predicted player values. **(8 points)**\n",
    "\n",
    "*Hint 1:* Feel free to use functions you have defined previously.\n",
    "\n",
    "*Hint 2:* [15.2](https://inferentialthinking.com/chapters/15/2/Regression_Line.html#) and [7.3](https://inferentialthinking.com/chapters/07/3/Overlaid_Graphs.html#overlaid-scatter-plots) has examples of creating such scatter plots.\n"
   ]
  },
  {
   "cell_type": "code",
   "execution_count": 32,
   "id": "31e2a83c",
   "metadata": {
    "tags": []
   },
   "outputs": [
    {
     "data": {
      "image/png": "[encoded data removed]",
      "text/plain": [
       "<Figure size 500x500 with 1 Axes>"
      ]
     },
     "metadata": {},
     "output_type": "display_data"
    }
   ],
   "source": [
    "predictions = predict(fifa, 'age', 'value_eur')\n",
    "fifa_with_predictions = fifa.select('age', 'value_eur').with_column('predict value', predictions)\n",
    "fifa_with_predictions.scatter('age')"
   ]
  },
  {
   "cell_type": "markdown",
   "id": "d7a8751a",
   "metadata": {},
   "source": [
    "<!-- END QUESTION -->\n",
    "\n",
    "<!-- BEGIN QUESTION -->\n",
    "\n",
    "---\n",
    "\n",
    "**Question 2.4.** Looking at the scatter plot you produced above, is linear regression a good model to use? If so, what features or characteristics make this model reasonable? If not, what features or characteristics make it unreasonable? **(5 points)**\n"
   ]
  },
  {
   "cell_type": "markdown",
   "id": "306fdad4",
   "metadata": {},
   "source": [
    "_Type your answer here, replacing this text._"
   ]
  },
  {
   "cell_type": "markdown",
   "id": "7ad55c6f",
   "metadata": {},
   "source": [
    "<!-- END QUESTION -->\n",
    "\n",
    "<!-- BEGIN QUESTION -->\n",
    "\n",
    "---\n",
    "\n",
    "**Question 2.5.** In 2.3, we created a scatter plot **in original units**. Now, create a scatter plot with player age **in standard units** along the x-axis and both real and predicted player value **in standard units** along the y-axis. The color of the dots of the real and predicted values should be different. **(8 points)**\n",
    "\n",
    "*Hint:* Feel free to use functions you have defined previously.\n"
   ]
  },
  {
   "cell_type": "code",
   "execution_count": 35,
   "id": "7f49f1fb",
   "metadata": {
    "tags": []
   },
   "outputs": [
    {
     "data": {
      "image/png": "[encoded data removed]",
      "text/plain": [
       "<Figure size 500x500 with 1 Axes>"
      ]
     },
     "metadata": {},
     "output_type": "display_data"
    }
   ],
   "source": [
    "predictions_su = standard_units(predictions)\n",
    "fifa_su = Table().with_columns(\n",
    "    'age_su', standard_units(fifa_with_predictions.column('age')),\n",
    "    'value_su', standard_units(fifa_with_predictions.column( 'value_eur')),\n",
    "    'pre_su', predictions_su\n",
    ")\n",
    "fifa_su.scatter('age_su')"
   ]
  },
  {
   "cell_type": "markdown",
   "id": "be47f12a",
   "metadata": {},
   "source": [
    "<!-- END QUESTION -->\n",
    "\n",
    "<!-- BEGIN QUESTION -->\n",
    "\n",
    "---\n",
    "\n",
    "**Question 2.6.** Compare your plots in 2.3 and 2.5. What similarities do they share? What differences do they have? **(5 points)**\n"
   ]
  },
  {
   "cell_type": "markdown",
   "id": "a5bd4f81",
   "metadata": {},
   "source": [
    "_Type your answer here, replacing this text._"
   ]
  },
  {
   "cell_type": "markdown",
   "id": "f1197009",
   "metadata": {},
   "source": [
    "<!-- END QUESTION -->\n",
    "\n",
    "---\n",
    "\n",
    "**Question 2.7.** Define a function `rmse` that takes in two arguments: a slope and an intercept for a potential regression line. The function should return the root mean squared error between the values predicted by a regression line with the given slope and intercept and the actual outcomes. **(6 points)**\n",
    "\n",
    "Assume we are still predicting “value_eur” from “age” in original units from the `fifa` table.\n"
   ]
  },
  {
   "cell_type": "code",
   "execution_count": 43,
   "id": "8a4135ef",
   "metadata": {
    "tags": []
   },
   "outputs": [],
   "source": [
    "def rmse(slope, intercept):\n",
    "    predictions = slope * fifa.column('age') + intercept\n",
    "    errors = np.mean((predictions - fifa.column('value_eur'))**2)\n",
    "    return errors"
   ]
  },
  {
   "cell_type": "code",
   "execution_count": 44,
   "id": "edd84dc1",
   "metadata": {
    "deletable": false,
    "editable": false
   },
   "outputs": [
    {
     "data": {
      "text/html": [
       "<p><strong><pre style='display: inline;'>q2_7</pre></strong> passed! 🚀</p>"
      ],
      "text/plain": [
       "q2_7 results: All test cases passed!"
      ]
     },
     "execution_count": 44,
     "metadata": {},
     "output_type": "execute_result"
    }
   ],
   "source": [
    "grader.check(\"q2_7\")"
   ]
  },
  {
   "cell_type": "markdown",
   "id": "8b95c86b",
   "metadata": {},
   "source": [
    "<!-- BEGIN QUESTION -->\n",
    "\n",
    "---\n",
    "\n",
    "**Question 2.8.** Use the `rmse` function you defined along with `minimize` to find the least-squares regression parameters predicting player value from player age. Here's an [example](https://inferentialthinking.com/chapters/15/3/Method_of_Least_Squares.html#numerical-optimization) of using the `minimize` function from the textbook. **(10 points)**\n",
    "\n",
    "Then set `lsq_slope` and `lsq_intercept` to be the least-squares regression line slope and intercept, respectively.\n",
    "\n",
    "Finally, create a scatter plot like you did in 2.3 with player age (\"age\") along the x-axis and both real player value (\"value_eur\") and predicted player value along the y-axis. **Be sure to use your least-squares regression line to compute the predicted values.** The color of the dots for the real player values should be different from the color for the predicted player values.\n",
    "\n",
    "> **Note:** Your solution should not make any calls to the slope or intercept functions defined earlier.\n",
    "\n",
    "*Hint:* Your call to `minimize` will return an array of argument values that minimize the return value of the function passed to `minimize`."
   ]
  },
  {
   "cell_type": "code",
   "execution_count": 45,
   "id": "cc1f5271",
   "metadata": {
    "tags": []
   },
   "outputs": [
    {
     "name": "stdout",
     "output_type": "stream",
     "text": [
      "Slope: -6.41462e+06 | Intercept: 2.55525e+08\n"
     ]
    },
    {
     "data": {
      "image/png": "[encoded data removed]",
      "text/plain": [
       "<Figure size 500x500 with 1 Axes>"
      ]
     },
     "metadata": {},
     "output_type": "display_data"
    }
   ],
   "source": [
    "minimized_parameters = minimize(rmse)\n",
    "lsq_slope =minimized_parameters.item(0)\n",
    "lsq_intercept = minimized_parameters.item(1)\n",
    "\n",
    "# This just prints your slope and intercept\n",
    "print(\"Slope: {:g} | Intercept: {:g}\".format(lsq_slope, lsq_intercept))\n",
    "\n",
    "fifa_with_lsq_predictions = fifa.select('age', 'value_eur').with_column('pridic',(lsq_slope * fifa.column('age') + lsq_intercept))\n",
    "fifa_with_lsq_predictions.scatter('age')"
   ]
  },
  {
   "cell_type": "markdown",
   "id": "91acdb5b",
   "metadata": {},
   "source": [
    "<!-- END QUESTION -->\n",
    "\n",
    "<!-- BEGIN QUESTION -->\n",
    "\n",
    "---\n",
    "\n",
    "**Question 2.9.** The resulting line you found in 2.8 should appear very similar to the line you found in 2.3. Why were we able to minimize RMSE to find nearly the same slope and intercept from the previous formulas? **(5 points)**\n",
    "\n",
    "*Hint:* Re-reading [15.3](https://inferentialthinking.com/chapters/15/3/Method_of_Least_Squares.html#the-least-squares-line) might be helpful here.\n"
   ]
  },
  {
   "cell_type": "markdown",
   "id": "a103b1ae",
   "metadata": {},
   "source": [
    "_Type your answer here, replacing this text._"
   ]
  },
  {
   "cell_type": "markdown",
   "id": "454e0dd7",
   "metadata": {},
   "source": [
    "<!-- END QUESTION -->\n",
    "\n",
    "---\n",
    "\n",
    "**Question 2.10** For which of the following error functions would we have resulted in the same slope and intercept values in 2.8 instead of using RMSE? Assume `error` is assigned to the actual values minus the predicted values. **(5 points)**\n",
    "\n",
    "1. `np.sum(error) ** 0.5`\n",
    "2. `np.sum(error ** 2)`\n",
    "3. `np.mean(error) ** 0.5`\n",
    "4. `np.mean(error ** 2)`\n",
    "\n",
    "Assign `error_array` to an array of your selections, in increasing numerical order. For example, if you wanted to select options 1, 3, and 5,\n",
    "you would assign `error_array` to `make_array(1, 3, 5)`.\n",
    "\n",
    "Hint: What was the purpose of RMSE? Are there any alternatives, and if so, does minimizing them them yield the same results as minimizing the RMSE? "
   ]
  },
  {
   "cell_type": "code",
   "execution_count": 46,
   "id": "09ede7cd",
   "metadata": {
    "tags": []
   },
   "outputs": [],
   "source": [
    "error_array = make_array(2,4)"
   ]
  },
  {
   "cell_type": "code",
   "execution_count": 47,
   "id": "249f0c42",
   "metadata": {
    "deletable": false,
    "editable": false
   },
   "outputs": [
    {
     "data": {
      "text/html": [
       "<p><strong><pre style='display: inline;'>q2_10</pre></strong> passed! 🌟</p>"
      ],
      "text/plain": [
       "q2_10 results: All test cases passed!"
      ]
     },
     "execution_count": 47,
     "metadata": {},
     "output_type": "execute_result"
    }
   ],
   "source": [
    "grader.check(\"q2_10\")"
   ]
  },
  {
   "cell_type": "code",
   "execution_count": 48,
   "id": "d3b81849",
   "metadata": {},
   "outputs": [
    {
     "data": {
      "text/html": [
       "<table border=\"1\" class=\"dataframe\">\n",
       "    <thead>\n",
       "        <tr>\n",
       "            <th>short_name</th> <th>overall</th> <th>value_eur</th> <th>wage_eur</th> <th>age</th> <th>pace</th> <th>shooting</th> <th>passing</th> <th>attacking_finishing</th>\n",
       "        </tr>\n",
       "    </thead>\n",
       "    <tbody>\n",
       "        <tr>\n",
       "            <td>L. Messi         </td> <td>93     </td> <td>78000000 </td> <td>320000  </td> <td>34  </td> <td>85  </td> <td>92      </td> <td>91     </td> <td>95                 </td>\n",
       "        </tr>\n",
       "        <tr>\n",
       "            <td>R. Lewandowski   </td> <td>92     </td> <td>119500000</td> <td>270000  </td> <td>32  </td> <td>78  </td> <td>92      </td> <td>79     </td> <td>95                 </td>\n",
       "        </tr>\n",
       "        <tr>\n",
       "            <td>Cristiano Ronaldo</td> <td>91     </td> <td>45000000 </td> <td>270000  </td> <td>36  </td> <td>87  </td> <td>94      </td> <td>80     </td> <td>95                 </td>\n",
       "        </tr>\n",
       "        <tr>\n",
       "            <td>Neymar Jr        </td> <td>91     </td> <td>129000000</td> <td>270000  </td> <td>29  </td> <td>91  </td> <td>83      </td> <td>86     </td> <td>83                 </td>\n",
       "        </tr>\n",
       "        <tr>\n",
       "            <td>K. De Bruyne     </td> <td>91     </td> <td>125500000</td> <td>350000  </td> <td>30  </td> <td>76  </td> <td>86      </td> <td>93     </td> <td>82                 </td>\n",
       "        </tr>\n",
       "        <tr>\n",
       "            <td>K. Mbappé        </td> <td>91     </td> <td>194000000</td> <td>230000  </td> <td>22  </td> <td>97  </td> <td>88      </td> <td>80     </td> <td>93                 </td>\n",
       "        </tr>\n",
       "        <tr>\n",
       "            <td>H. Kane          </td> <td>90     </td> <td>129500000</td> <td>240000  </td> <td>27  </td> <td>70  </td> <td>91      </td> <td>83     </td> <td>94                 </td>\n",
       "        </tr>\n",
       "        <tr>\n",
       "            <td>N. Kanté         </td> <td>90     </td> <td>100000000</td> <td>230000  </td> <td>30  </td> <td>78  </td> <td>66      </td> <td>75     </td> <td>65                 </td>\n",
       "        </tr>\n",
       "        <tr>\n",
       "            <td>K. Benzema       </td> <td>89     </td> <td>66000000 </td> <td>350000  </td> <td>33  </td> <td>76  </td> <td>86      </td> <td>81     </td> <td>90                 </td>\n",
       "        </tr>\n",
       "        <tr>\n",
       "            <td>H. Son           </td> <td>89     </td> <td>104000000</td> <td>220000  </td> <td>28  </td> <td>88  </td> <td>87      </td> <td>82     </td> <td>88                 </td>\n",
       "        </tr>\n",
       "    </tbody>\n",
       "</table>\n",
       "<p>... (75 rows omitted)</p>"
      ],
      "text/plain": [
       "short_name        | overall | value_eur | wage_eur | age  | pace | shooting | passing | attacking_finishing\n",
       "L. Messi          | 93      | 78000000  | 320000   | 34   | 85   | 92       | 91      | 95\n",
       "R. Lewandowski    | 92      | 119500000 | 270000   | 32   | 78   | 92       | 79      | 95\n",
       "Cristiano Ronaldo | 91      | 45000000  | 270000   | 36   | 87   | 94       | 80      | 95\n",
       "Neymar Jr         | 91      | 129000000 | 270000   | 29   | 91   | 83       | 86      | 83\n",
       "K. De Bruyne      | 91      | 125500000 | 350000   | 30   | 76   | 86       | 93      | 82\n",
       "K. Mbappé         | 91      | 194000000 | 230000   | 22   | 97   | 88       | 80      | 93\n",
       "H. Kane           | 90      | 129500000 | 240000   | 27   | 70   | 91       | 83      | 94\n",
       "N. Kanté          | 90      | 100000000 | 230000   | 30   | 78   | 66       | 75      | 65\n",
       "K. Benzema        | 89      | 66000000  | 350000   | 33   | 76   | 86       | 81      | 90\n",
       "H. Son            | 89      | 104000000 | 220000   | 28   | 88   | 87       | 82      | 88\n",
       "... (75 rows omitted)"
      ]
     },
     "execution_count": 48,
     "metadata": {},
     "output_type": "execute_result"
    }
   ],
   "source": [
    "# goalies don't have shooting in our dataset so we removed them before looking at the pace stat\n",
    "no_goalies = fifa.where(\"shooting\", are.above(0))\n",
    "no_goalies"
   ]
  },
  {
   "cell_type": "code",
   "execution_count": 49,
   "id": "1598a3e3",
   "metadata": {},
   "outputs": [
    {
     "data": {
      "image/png": "[encoded data removed]",
      "text/plain": [
       "<Figure size 500x500 with 1 Axes>"
      ]
     },
     "metadata": {},
     "output_type": "display_data"
    }
   ],
   "source": [
    "# Run this cell to generate a scatter plot for the next part.\n",
    "no_goalies.scatter('shooting', 'attacking_finishing', fit_line=True)"
   ]
  },
  {
   "cell_type": "markdown",
   "id": "139e4b48",
   "metadata": {},
   "source": [
    "---\n",
    "\n",
    "**Question 2.11.** Above is a scatter plot showing the relationship between a player’s shooting ability (“shooting”) and their scoring ability (“attacking_finishing”). \n",
    "\n",
    "There is clearly a strong positive correlation between the 2 variables, and we’d like to predict a player’s scoring ability from their shooting ability. Which of the following are true, assuming linear regression is a reasonable model? **(5 points)**\n",
    "\n",
    "*Hint:* Re-reading [15.2](https://inferentialthinking.com/chapters/15/2/Regression_Line.html#) might be helpful here.\n",
    "\n",
    "1. For a majority of players with a `shooting` attribute above 80 our model predicts they have a better scoring ability than shooting ability.\n",
    "2. A randomly selected player's predicted scoring ability in standard units will always be less than their shooting ability in standard units.\n",
    "3. If we select a player who’s shooting ability is 1.0 in standard units, their scoring ability, on average, will be less than 1.0 in standard units.\n",
    "4. Goalies have attacking_finishing scores in our dataset but do not have shooting scores. We can still use our model to predict their attacking_finishing scores.\n",
    "\n",
    "Assign `scoring_array` to an array of your selections, in increasing numerical order. For example, if you wanted to select options 1, 3, and 5,\n",
    "you would assign `scoring_array` to `make_array(1, 3, 5)`.\n"
   ]
  },
  {
   "cell_type": "code",
   "execution_count": null,
   "id": "c9c7cd65",
   "metadata": {
    "tags": []
   },
   "outputs": [],
   "source": [
    "scoring_array = ..."
   ]
  },
  {
   "cell_type": "code",
   "execution_count": null,
   "id": "c6a9b385",
   "metadata": {
    "deletable": false,
    "editable": false
   },
   "outputs": [],
   "source": [
    "grader.check(\"q2_11\")"
   ]
  },
  {
   "attachments": {},
   "cell_type": "markdown",
   "id": "0dbdcd3e",
   "metadata": {},
   "source": [
    "You're done with Homework 10!  \n",
    "\n",
    "**Important submission steps:** \n",
    "1. Run the tests and verify that they all pass.\n",
    "2. Choose **Save Notebook** from the **File** menu, then **run the final cell**. \n",
    "3. Click the link to download the zip file.\n",
    "4. Go to [Gradescope](https://www.gradescope.com) and submit the zip file to the corresponding assignment. The name of this assignment is \"HW 10 Autograder\". \n",
    "\n",
    "**It is your responsibility to make sure your work is saved before running the last cell.**"
   ]
  },
  {
   "attachments": {},
   "cell_type": "markdown",
   "id": "c0d4681a",
   "metadata": {},
   "source": [
    "## Pets of Data 8\n",
    "**Gucci and Dior** are so proud of you for finishing homework 10. They hope you have a great rest of your day!\n",
    "\n",
    "<img src=\"./guccianddior.png\" width=\"40%\" alt=\"two maltese staring at camera\"/>"
   ]
  },
  {
   "cell_type": "markdown",
   "id": "d3e8745c",
   "metadata": {},
   "source": [
    "<hr style=\"border: 5px solid #003262;\" />\n",
    "<hr style=\"border: 1px solid #fdb515;\" />\n",
    "\n",
    "## Written Work Submission\n",
    "\n",
    "Below, you will see two cells. Running the first cell will automatically generate a PDF of all questions that need to be manually graded, and running the second cell will automatically generate a zip with your autograded answers. You are responsible for submitting both the coding portion (the zip) and the written portion (the PDF) to their respective Gradescope portals. **Please save before exporting!**\n",
    "\n",
    "> **Important: You must correctly assign the pages of your PDF after you submit to the correct gradescope assignment. If your pages are not correctly assigned and/or not in the correct PDF format by the deadline, we reserve the right to award no points for your written work.**\n",
    "\n",
    "If there are issues with automatically generating the PDF in the first cell, you can try downloading the notebook as a PDF by clicking on `File -> Save and Export Notebook As... -> Webpdf`. If that doesn't work either, you can manually take screenshots of your answers to the manually graded questions and submit one single PDF of your screenshots. Either way, **you are responsible for ensuring your submision follows our requirements, we will NOT be granting regrade requests for submissions that don't follow instructions.**\n",
    "\n",
    "**You must submit the PDF generated via one of these methods, we will not accept screenshots or Word documents.**"
   ]
  },
  {
   "cell_type": "code",
   "execution_count": null,
   "id": "14fa5416",
   "metadata": {},
   "outputs": [],
   "source": [
    "from otter.export import export_notebook\n",
    "from os import path\n",
    "from IPython.display import display, HTML\n",
    "name = 'hw10'\n",
    "export_notebook(f\"{name}.ipynb\", filtering=True, pagebreaks=True)\n",
    "if(path.exists(f'{name}.pdf')):\n",
    "    display(HTML(f\"Download your PDF <a href='{name}.pdf' download>here</a>.\"))\n",
    "else:\n",
    "    print(\"\\n Pdf generation failed, please try the other methods described above\")"
   ]
  },
  {
   "cell_type": "markdown",
   "id": "d4fe26ed",
   "metadata": {
    "deletable": false,
    "editable": false
   },
   "source": [
    "## Submission\n",
    "\n",
    "Make sure you have run all cells in your notebook in order before running the cell below, so that all images/graphs appear in the output. The cell below will generate a zip file for you to submit. **Please save before exporting!**"
   ]
  },
  {
   "cell_type": "code",
   "execution_count": null,
   "id": "8494a26c",
   "metadata": {
    "deletable": false,
    "editable": false
   },
   "outputs": [],
   "source": [
    "# Save your notebook first, then run this cell to export your submission.\n",
    "grader.export(pdf=False, run_tests=True)"
   ]
  },
  {
   "cell_type": "markdown",
   "id": "0e9e205e",
   "metadata": {},
   "source": [
    " "
   ]
  }
 ],
 "metadata": {
  "kernelspec": {
   "display_name": "Python 3",
   "language": "python",
   "name": "python3"
  },
  "language_info": {
   "codemirror_mode": {
    "name": "ipython",
    "version": 3
   },
   "file_extension": ".py",
   "mimetype": "text/x-python",
   "name": "python",
   "nbconvert_exporter": "python",
   "pygments_lexer": "ipython3",
   "version": "3.12.0"
  },
  "otter": {
   "OK_FORMAT": true,
   "tests": {
    "q1_1": {
     "name": "q1_1",
     "points": [
      0,
      0,
      0
     ],
     "suites": [
      {
       "cases": [
        {
         "code": ">>> standard_units([1,2,3,4,5])\narray([-1.41421356, -0.70710678,  0.        ,  0.70710678,  1.41421356])",
         "hidden": false,
         "locked": false
        },
        {
         "code": ">>> np.isclose(np.mean(standard_units([1,2,3,4,5])), 0)\nTrue",
         "hidden": false,
         "locked": false
        },
        {
         "code": ">>> np.isclose(np.std(standard_units([1,2,3,4,5])), 0.9999999999999999)\nTrue",
         "hidden": false,
         "locked": false
        }
       ],
       "scored": true,
       "setup": "",
       "teardown": "",
       "type": "doctest"
      }
     ]
    },
    "q1_2": {
     "name": "q1_2",
     "points": [
      0,
      0,
      0
     ],
     "suites": [
      {
       "cases": [
        {
         "code": ">>> # Make sure standard_array is an array.\n>>> import numpy as np\n>>> type(standard_array) == np.ndarray\nTrue",
         "hidden": false,
         "locked": false
        },
        {
         "code": ">>> # Make sure array is in order\n>>> all(standard_array == np.sort(standard_array))\nTrue",
         "hidden": false,
         "locked": false
        },
        {
         "code": ">>> # Make sure you have set standard_array to an array with at least 1 number\n>>> 1 <= standard_array.item(0) <= 5\nTrue",
         "hidden": false,
         "locked": false
        }
       ],
       "scored": true,
       "setup": "",
       "teardown": "",
       "type": "doctest"
      }
     ]
    },
    "q1_3": {
     "name": "q1_3",
     "points": [
      0
     ],
     "suites": [
      {
       "cases": [
        {
         "code": ">>> np.isclose(correlation([1,2,3], [4,5,6]), 0.9999999999999999)\nTrue",
         "hidden": false,
         "locked": false
        }
       ],
       "scored": true,
       "setup": "",
       "teardown": "",
       "type": "doctest"
      }
     ]
    },
    "q1_4": {
     "name": "q1_4",
     "points": [
      0,
      0,
      0
     ],
     "suites": [
      {
       "cases": [
        {
         "code": ">>> # Make sure r_array is an array.\n>>> import numpy as np\n>>> type(r_array) == np.ndarray\nTrue",
         "hidden": false,
         "locked": false
        },
        {
         "code": ">>> # Make sure array is in order\n>>> all(r_array == np.sort(r_array))\nTrue",
         "hidden": false,
         "locked": false
        },
        {
         "code": ">>> # Make sure you have set r_array to an array with at least 1 number\n>>> 1 <= r_array.item(0) <= 5\nTrue",
         "hidden": false,
         "locked": false
        }
       ],
       "scored": true,
       "setup": "",
       "teardown": "",
       "type": "doctest"
      }
     ]
    },
    "q1_5": {
     "name": "q1_5",
     "points": [
      0
     ],
     "suites": [
      {
       "cases": [
        {
         "code": ">>> # The slope of a line going through (1,1) and (2,2) should be 1.\n>>> np.isclose(slope([1, 2], [1, 2]), 1.0)\nTrue",
         "hidden": false,
         "locked": false
        }
       ],
       "scored": true,
       "setup": "",
       "teardown": "",
       "type": "doctest"
      }
     ]
    },
    "q1_6": {
     "name": "q1_6",
     "points": [
      0,
      0,
      0
     ],
     "suites": [
      {
       "cases": [
        {
         "code": ">>> # Make sure slope_array is an array.\n>>> import numpy as np\n>>> type(slope_array) == np.ndarray\nTrue",
         "hidden": false,
         "locked": false
        },
        {
         "code": ">>> # Make sure array is in order\n>>> all(slope_array == np.sort(slope_array))\nTrue",
         "hidden": false,
         "locked": false
        },
        {
         "code": ">>> # Make sure you have set slope_array to an array with at least 1 number\n>>> 1 <= slope_array.item(0) <= 5\nTrue",
         "hidden": false,
         "locked": false
        }
       ],
       "scored": true,
       "setup": "",
       "teardown": "",
       "type": "doctest"
      }
     ]
    },
    "q1_7": {
     "name": "q1_7",
     "points": [
      0
     ],
     "suites": [
      {
       "cases": [
        {
         "code": ">>> # The intercept of a line going through (1,1) and (2,2) should be 0.\n>>> np.isclose(intercept([1, 2], [1, 2]), 0.0)\nTrue",
         "hidden": false,
         "locked": false
        }
       ],
       "scored": true,
       "setup": "",
       "teardown": "",
       "type": "doctest"
      }
     ]
    },
    "q1_8": {
     "name": "q1_8",
     "points": [
      0,
      0,
      0
     ],
     "suites": [
      {
       "cases": [
        {
         "code": ">>> # Make sure intercept_array is an array.\n>>> import numpy as np\n>>> type(intercept_array) == np.ndarray\nTrue",
         "hidden": false,
         "locked": false
        },
        {
         "code": ">>> # Make sure array is in order\n>>> all(intercept_array == np.sort(intercept_array))\nTrue",
         "hidden": false,
         "locked": false
        },
        {
         "code": ">>> # Make sure you have set intercept_array to an array with at least 1 number\n>>> 1 <= intercept_array.item(0) <= 5\nTrue",
         "hidden": false,
         "locked": false
        }
       ],
       "scored": true,
       "setup": "",
       "teardown": "",
       "type": "doctest"
      }
     ]
    },
    "q1_9": {
     "name": "q1_9",
     "points": [
      2,
      3
     ],
     "suites": [
      {
       "cases": [
        {
         "code": ">>> test_table = Table().with_columns('x', make_array(1, 2, 4), 'y', make_array(4, 5, 6))\n>>> np.all(np.isclose(predict(test_table, 'x', 'y'), make_array(4.14285714, 4.78571429, 6.07142857)))\nTrue",
         "hidden": false,
         "locked": false
        },
        {
         "code": ">>> test_table_2 = Table().with_columns('x', make_array(-1, -3, -5), 'y', make_array(0, 3, 4))\n>>> np.all(np.isclose(predict(test_table_2, 'x', 'y'), make_array(0.33333333, 2.33333333, 4.33333333)))\nTrue",
         "hidden": false,
         "locked": false
        }
       ],
       "scored": true,
       "setup": "",
       "teardown": "",
       "type": "doctest"
      }
     ]
    },
    "q2_10": {
     "name": "q2_10",
     "points": [
      0,
      0,
      0
     ],
     "suites": [
      {
       "cases": [
        {
         "code": ">>> # Make sure error_array is an array.\n>>> import numpy as np\n>>> type(error_array) == np.ndarray\nTrue",
         "hidden": false,
         "locked": false
        },
        {
         "code": ">>> # Make sure array is in order\n>>> all(error_array == np.sort(error_array))\nTrue",
         "hidden": false,
         "locked": false
        },
        {
         "code": ">>> # Make sure you have set error_array to an array with at least 1 number\n>>> 1 <= error_array.item(0) <= 5\nTrue",
         "hidden": false,
         "locked": false
        }
       ],
       "scored": true,
       "setup": "",
       "teardown": "",
       "type": "doctest"
      }
     ]
    },
    "q2_11": {
     "name": "q2_11",
     "points": [
      0,
      0,
      0
     ],
     "suites": [
      {
       "cases": [
        {
         "code": ">>> # Make sure scoring_array is an array.\n>>> import numpy as np\n>>> type(scoring_array) == np.ndarray\nTrue",
         "hidden": false,
         "locked": false
        },
        {
         "code": ">>> # Make sure array is in order\n>>> all(scoring_array == np.sort(scoring_array))\nTrue",
         "hidden": false,
         "locked": false
        },
        {
         "code": ">>> # Make sure you have set scoring_array to an array with at least 1 number\n>>> 1 <= scoring_array.item(0) <= 4\nTrue",
         "hidden": false,
         "locked": false
        }
       ],
       "scored": true,
       "setup": "",
       "teardown": "",
       "type": "doctest"
      }
     ]
    },
    "q2_2": {
     "name": "q2_2",
     "points": [
      0
     ],
     "suites": [
      {
       "cases": [
        {
         "code": ">>> # Make sure r_guess is one of the 3 options.\n>>> r_guess == 0 or r_guess == 0.75 or r_guess == -0.75\nTrue",
         "hidden": false,
         "locked": false
        }
       ],
       "scored": true,
       "setup": "",
       "teardown": "",
       "type": "doctest"
      }
     ]
    },
    "q2_7": {
     "name": "q2_7",
     "points": [
      0
     ],
     "suites": [
      {
       "cases": [
        {
         "code": ">>> # Make sure your function returns the value you computed for the RMSE.\n>>> import numpy as np\n>>> type(rmse(1, 2)) == np.float64 or type(rmse(1, 2)) == float\nTrue",
         "hidden": false,
         "locked": false
        }
       ],
       "scored": true,
       "setup": "",
       "teardown": "",
       "type": "doctest"
      }
     ]
    }
   }
  }
 },
 "nbformat": 4,
 "nbformat_minor": 5
}
